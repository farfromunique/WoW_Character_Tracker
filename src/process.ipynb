{
 "cells": [
  {
   "cell_type": "code",
   "execution_count": 1,
   "metadata": {},
   "outputs": [],
   "source": [
    "import logging.handlers\n",
    "from pathlib import Path\n",
    "import os\n",
    "import sys\n",
    "import logging\n",
    "from typing import Dict\n",
    "import requests\n",
    "import json\n",
    "from datetime import date\n",
    "from sqlalchemy import create_engine, select\n",
    "from sqlalchemy.orm import Session\n",
    "from tqdm.auto import tqdm\n",
    "from data_models import WoWCharacter, GearLog, CharacterProgress, Base\n",
    "import wow_api_models as wow\n"
   ]
  },
  {
   "cell_type": "code",
   "execution_count": 2,
   "metadata": {},
   "outputs": [],
   "source": [
    "\n",
    "log = logging.getLogger(__name__)\n",
    "logging.StreamHandler(stream=sys.stdout)\n",
    "logging.basicConfig(encoding=\"utf-8\", level=logging.DEBUG)\n",
    "logging.getLogger(\"urllib3.connectionpool\").level = logging.WARNING\n",
    "logging.getLogger(\"sqlalchemy.engine.Engine\").level = logging.WARNING\n"
   ]
  },
  {
   "cell_type": "code",
   "execution_count": 3,
   "metadata": {},
   "outputs": [],
   "source": [
    "OAUTH_TOKEN = \"\"\n",
    "\n",
    "list_of_characters = [\n",
    "    \"us|icecrown|littlegizmo\",\n",
    "    \"us|icecrown|evilgizmo\",\n",
    "    \"us|icecrown|tidalgizmo\",\n",
    "    \"us|icecrown|stockygizmo\",\n",
    "    \"us|icecrown|scaledgizmo\",\n",
    "    \"us|icecrown|naturalgizmo\",\n",
    "    \"us|icecrown|voidedgizmo\",\n",
    "    \"us|icecrown|fuzzygizmo\",\n",
    "    \"us|icecrown|felgizmo\",\n",
    "    \"us|icecrown|tallgizmo\",\n",
    "    \"us|icecrown|ralethisolur\"\n",
    "]\n",
    "\n",
    "client_id = os.getenv(\"WOW_CLIENT_ID\", \"NeedAKey\")\n",
    "client_secret = os.getenv(\"WOW_CLIENT_SECRET\", \"OrThisWillNotWork\")"
   ]
  },
  {
   "cell_type": "code",
   "execution_count": 4,
   "metadata": {},
   "outputs": [],
   "source": [
    "def get_oauth_token(id: str, secret: str) -> Dict:\n",
    "    base_url = \"https://oauth.battle.net/token\"\n",
    "    data = {\n",
    "        \"grant_type\": \"client_credentials\",\n",
    "    }\n",
    "\n",
    "    response = requests.post(base_url, data=data, auth=(id, secret))\n",
    "    return response.json()\n"
   ]
  },
  {
   "cell_type": "code",
   "execution_count": 5,
   "metadata": {},
   "outputs": [],
   "source": [
    "def get_equipment_for_character(\n",
    "    region: str,\n",
    "    realm: str,\n",
    "    character: str,\n",
    "    locale: str = \"en_US\",\n",
    "):\n",
    "    global OAUTH_TOKEN, log\n",
    "    if region == \"cn\":\n",
    "        API_HOST = \"gateway.battlenet.com.cn\"\n",
    "    elif region in [\"us\", \"eu\", \"kr\", \"tw\"]:\n",
    "        API_HOST = f\"{region}.api.blizzard.com\"\n",
    "    else:\n",
    "        raise Exception(\"Invalid region specified.\", region)\n",
    "\n",
    "    auth = {\"Authorization\": f\"Bearer {OAUTH_TOKEN}\"}\n",
    "    realmSlug = realm.lower().strip()\n",
    "    characterName = character.lower().strip()\n",
    "\n",
    "    endpoint = f\"/profile/wow/character/{realmSlug}/{characterName}/equipment\"\n",
    "\n",
    "    params = {\":region\": region, \"namespace\": f\"profile-{region}\", \"locale\": locale}\n",
    "\n",
    "    resp = requests.get(\n",
    "        url=f\"https://{API_HOST}/{endpoint}\",\n",
    "        params=params,\n",
    "        headers=auth\n",
    "    )\n",
    "    return resp.json()\n"
   ]
  },
  {
   "cell_type": "code",
   "execution_count": 6,
   "metadata": {},
   "outputs": [],
   "source": [
    "def get_engine():\n",
    "\n",
    "    db_host = os.getenv(\"DB_HOST\")\n",
    "    db_user = os.getenv(\"DB_USER\")\n",
    "    db_port = os.getenv(\"DB_PORT\")\n",
    "    db_pass = os.getenv(\"DB_PASS\")\n",
    "    db_name = os.getenv(\"DB_NAME\")\n",
    "\n",
    "    return create_engine(\n",
    "        f\"postgresql+psycopg://{db_user}:{db_pass}@{db_host}:{db_port}/{db_name}\",\n",
    "        echo=False\n",
    "    )\n"
   ]
  },
  {
   "cell_type": "code",
   "execution_count": 7,
   "metadata": {},
   "outputs": [],
   "source": [
    "def register_character(character_key: str, db_sess: Session):\n",
    "    target = db_sess.scalar(\n",
    "        select(WoWCharacter)\n",
    "        .where(WoWCharacter.key == character_key)\n",
    "    )\n",
    "    if target is not None:\n",
    "        return target\n",
    "    \n",
    "    region, realm, name = character_key.split('|')\n",
    "    target = WoWCharacter(\n",
    "        key=character_key,\n",
    "        region=region,\n",
    "        realm=realm,\n",
    "        name=name,\n",
    "        level=None,\n",
    "        id=None\n",
    "    )\n",
    "    db_sess.add(target)\n",
    "    db_sess.commit()\n",
    "\n",
    "    return target"
   ]
  },
  {
   "cell_type": "code",
   "execution_count": 8,
   "metadata": {},
   "outputs": [],
   "source": [
    "# Setup\n",
    "OAUTH_TOKEN = get_oauth_token(client_id, client_secret)[\"access_token\"]\n",
    "\n",
    "output_dir = Path('.', 'storage', 'equipment')\n"
   ]
  },
  {
   "cell_type": "code",
   "execution_count": 9,
   "metadata": {},
   "outputs": [],
   "source": [
    "engine = get_engine()\n",
    "Base.metadata.create_all(engine)\n",
    "db_session = Session(engine, autoflush=True)\n",
    "_ = db_session.begin()"
   ]
  },
  {
   "cell_type": "code",
   "execution_count": 10,
   "metadata": {},
   "outputs": [],
   "source": [
    "existing_characters = db_session.scalars(\n",
    "    select(WoWCharacter)\n",
    ").all()\n",
    "for char in list_of_characters:\n",
    "    if char not in [c.key for c in existing_characters]:\n",
    "        log.debug(f'Character key: {char}')\n",
    "        log.debug('... is not in list')\n",
    "        log.debug(register_character(char, db_session))\n",
    "\n",
    "existing_characters = db_session.scalars(\n",
    "    select(WoWCharacter)\n",
    "    .order_by(WoWCharacter.id)\n",
    ").all()"
   ]
  },
  {
   "cell_type": "code",
   "execution_count": 11,
   "metadata": {},
   "outputs": [
    {
     "name": "stderr",
     "output_type": "stream",
     "text": [
      "INFO:WoW_Retail_API_Endpoint.CharacterProfileSummary:Retrieving data for littlegizmo...\n",
      "DEBUG:BaseDataModel:Persisting to DB\n",
      "INFO:WoW_Retail_API_Endpoint.CharacterProfileSummary:Retrieving data for evilgizmo...\n",
      "DEBUG:BaseDataModel:Persisting to DB\n",
      "INFO:WoW_Retail_API_Endpoint.CharacterProfileSummary:Retrieving data for tidalgizmo...\n",
      "DEBUG:BaseDataModel:Persisting to DB\n",
      "INFO:WoW_Retail_API_Endpoint.CharacterProfileSummary:Retrieving data for stockygizmo...\n",
      "DEBUG:BaseDataModel:Persisting to DB\n",
      "INFO:WoW_Retail_API_Endpoint.CharacterProfileSummary:Retrieving data for scaledgizmo...\n",
      "DEBUG:BaseDataModel:Persisting to DB\n",
      "INFO:WoW_Retail_API_Endpoint.CharacterProfileSummary:Retrieving data for naturalgizmo...\n",
      "DEBUG:BaseDataModel:Persisting to DB\n",
      "INFO:WoW_Retail_API_Endpoint.CharacterProfileSummary:Retrieving data for voidedgizmo...\n",
      "DEBUG:BaseDataModel:Persisting to DB\n",
      "INFO:WoW_Retail_API_Endpoint.CharacterProfileSummary:Retrieving data for fuzzygizmo...\n",
      "DEBUG:BaseDataModel:Persisting to DB\n",
      "INFO:WoW_Retail_API_Endpoint.CharacterProfileSummary:Retrieving data for felgizmo...\n",
      "DEBUG:BaseDataModel:Persisting to DB\n",
      "INFO:WoW_Retail_API_Endpoint.CharacterProfileSummary:Retrieving data for tallgizmo...\n"
     ]
    },
    {
     "ename": "AttributeError",
     "evalue": "'CharacterProfileSummary' object has no attribute 'level'",
     "output_type": "error",
     "traceback": [
      "\u001b[0;31m---------------------------------------------------------------------------\u001b[0m",
      "\u001b[0;31mAttributeError\u001b[0m                            Traceback (most recent call last)",
      "Cell \u001b[0;32mIn[11], line 2\u001b[0m\n\u001b[1;32m      1\u001b[0m \u001b[38;5;28;01mfor\u001b[39;00m char \u001b[38;5;129;01min\u001b[39;00m existing_characters:\n\u001b[0;32m----> 2\u001b[0m     \u001b[43mchar\u001b[49m\u001b[38;5;241;43m.\u001b[39;49m\u001b[43mget_details\u001b[49m\u001b[43m(\u001b[49m\u001b[43mdb_sess\u001b[49m\u001b[38;5;241;43m=\u001b[39;49m\u001b[43mdb_session\u001b[49m\u001b[43m,\u001b[49m\u001b[43m \u001b[49m\u001b[43mtoken\u001b[49m\u001b[38;5;241;43m=\u001b[39;49m\u001b[43mOAUTH_TOKEN\u001b[49m\u001b[43m)\u001b[49m\n",
      "File \u001b[0;32m~/repos/WoW_Character_Tracker/src/data_models.py:78\u001b[0m, in \u001b[0;36mWoWCharacter.get_details\u001b[0;34m(self, db_sess, token)\u001b[0m\n\u001b[1;32m     76\u001b[0m new[\u001b[38;5;124m'\u001b[39m\u001b[38;5;124mname\u001b[39m\u001b[38;5;124m'\u001b[39m] \u001b[38;5;241m=\u001b[39m req\u001b[38;5;241m.\u001b[39mcharacter_name\n\u001b[1;32m     77\u001b[0m new[\u001b[38;5;124m'\u001b[39m\u001b[38;5;124mrealm\u001b[39m\u001b[38;5;124m'\u001b[39m] \u001b[38;5;241m=\u001b[39m req\u001b[38;5;241m.\u001b[39mrealm\n\u001b[0;32m---> 78\u001b[0m new[\u001b[38;5;124m'\u001b[39m\u001b[38;5;124mlevel\u001b[39m\u001b[38;5;124m'\u001b[39m] \u001b[38;5;241m=\u001b[39m \u001b[43mreq\u001b[49m\u001b[38;5;241;43m.\u001b[39;49m\u001b[43mlevel\u001b[49m\n\u001b[1;32m     80\u001b[0m \u001b[38;5;28mself\u001b[39m\u001b[38;5;241m.\u001b[39mupdate(session\u001b[38;5;241m=\u001b[39mdb_sess, \u001b[38;5;241m*\u001b[39m\u001b[38;5;241m*\u001b[39mnew)\n",
      "\u001b[0;31mAttributeError\u001b[0m: 'CharacterProfileSummary' object has no attribute 'level'"
     ]
    }
   ],
   "source": [
    "for char in existing_characters:\n",
    "    char.get_details(db_sess=db_session, token=OAUTH_TOKEN)"
   ]
  },
  {
   "cell_type": "code",
   "execution_count": null,
   "metadata": {},
   "outputs": [],
   "source": [
    "char.level"
   ]
  },
  {
   "cell_type": "code",
   "execution_count": 12,
   "metadata": {},
   "outputs": [],
   "source": [
    "db_session.close()"
   ]
  }
 ],
 "metadata": {
  "kernelspec": {
   "display_name": ".venv",
   "language": "python",
   "name": "python3"
  },
  "language_info": {
   "codemirror_mode": {
    "name": "ipython",
    "version": 3
   },
   "file_extension": ".py",
   "mimetype": "text/x-python",
   "name": "python",
   "nbconvert_exporter": "python",
   "pygments_lexer": "ipython3",
   "version": "3.12.7"
  }
 },
 "nbformat": 4,
 "nbformat_minor": 2
}
